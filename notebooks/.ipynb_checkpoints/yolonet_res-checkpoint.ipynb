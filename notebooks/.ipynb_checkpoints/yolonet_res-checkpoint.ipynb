{
 "cells": [
  {
   "cell_type": "code",
   "execution_count": 8,
   "metadata": {
    "collapsed": false,
    "deletable": true,
    "editable": true
   },
   "outputs": [],
   "source": [
    "import cv2\n",
    "import glob\n",
    "import keras\n",
    "import numpy as np\n",
    "import matplotlib.pyplot as plt\n",
    "from keras.models import Sequential\n",
    "from keras.layers.advanced_activations import LeakyReLU\n",
    "from keras.layers.core import Flatten, Dense, Activation, Reshape\n",
    "from keras.layers.convolutional import Conv2D, MaxPooling2D"
   ]
  },
  {
   "cell_type": "markdown",
   "metadata": {
    "deletable": true,
    "editable": true
   },
   "source": [
    "# Weights"
   ]
  },
  {
   "cell_type": "code",
   "execution_count": 9,
   "metadata": {
    "collapsed": false,
    "deletable": true,
    "editable": true
   },
   "outputs": [],
   "source": [
    "def load_weights(model,yolo_weight_file):\n",
    "                \n",
    "    data = np.fromfile(yolo_weight_file,np.float32)\n",
    "    index = 0\n",
    "    for layer in model.layers:\n",
    "        shape = [w.shape for w in layer.get_weights()]\n",
    "        print(shape)\n",
    "        if shape != []:\n",
    "            kshape,bshape = shape\n",
    "            bia = data[index:index+np.prod(bshape)].reshape(bshape)\n",
    "            index += np.prod(bshape)\n",
    "            ker = data[index:index+np.prod(kshape)].reshape(kshape)\n",
    "            index += np.prod(kshape)\n",
    "            layer.set_weights([ker,bia])"
   ]
  },
  {
   "cell_type": "markdown",
   "metadata": {
    "deletable": true,
    "editable": true
   },
   "source": [
    "# YOLO model "
   ]
  },
  {
   "cell_type": "code",
   "execution_count": 10,
   "metadata": {
    "collapsed": false,
    "deletable": true,
    "editable": true
   },
   "outputs": [],
   "source": [
    "keras.backend.set_image_dim_ordering('th')"
   ]
  },
  {
   "cell_type": "code",
   "execution_count": 11,
   "metadata": {
    "collapsed": false,
    "deletable": true,
    "editable": true
   },
   "outputs": [],
   "source": [
    "tiny_model = Sequential()\n",
    "tiny_model.add(Convolution2D(16, 3, 3,input_shape=(3,448,448),border_mode='same',subsample=(1,1)))\n",
    "tiny_model.add(LeakyReLU(alpha=0.1))\n",
    "tiny_model.add(MaxPooling2D(pool_size=(2, 2)))\n",
    "tiny_model.add(Convolution2D(32,3,3 ,border_mode='same'))\n",
    "tiny_model.add(LeakyReLU(alpha=0.1))\n",
    "tiny_model.add(MaxPooling2D(pool_size=(2, 2),border_mode='valid'))\n",
    "tiny_model.add(Convolution2D(64,3,3 ,border_mode='same'))\n",
    "tiny_model.add(LeakyReLU(alpha=0.1))\n",
    "tiny_model.add(MaxPooling2D(pool_size=(2, 2),border_mode='valid'))\n",
    "tiny_model.add(Convolution2D(128,3,3 ,border_mode='same'))\n",
    "tiny_model.add(LeakyReLU(alpha=0.1))\n",
    "tiny_model.add(MaxPooling2D(pool_size=(2, 2),border_mode='valid'))\n",
    "tiny_model.add(Convolution2D(256,3,3 ,border_mode='same'))\n",
    "tiny_model.add(LeakyReLU(alpha=0.1))\n",
    "tiny_model.add(MaxPooling2D(pool_size=(2, 2),border_mode='valid'))\n",
    "tiny_model.add(Convolution2D(512,3,3 ,border_mode='same'))\n",
    "tiny_model.add(LeakyReLU(alpha=0.1))\n",
    "tiny_model.add(MaxPooling2D(pool_size=(2, 2),border_mode='valid'))\n",
    "tiny_model.add(Convolution2D(1024,3,3 ,border_mode='same'))\n",
    "tiny_model.add(LeakyReLU(alpha=0.1))\n",
    "tiny_model.add(Convolution2D(1024,3,3 ,border_mode='same'))\n",
    "tiny_model.add(LeakyReLU(alpha=0.1))\n",
    "tiny_model.add(Convolution2D(1024,3,3 ,border_mode='same'))\n",
    "tiny_model.add(LeakyReLU(alpha=0.1))\n",
    "tiny_model.add(Flatten())\n",
    "tiny_model.add(Dense(256))\n",
    "tiny_model.add(Dense(4096))\n",
    "tiny_model.add(LeakyReLU(alpha=0.1))\n",
    "tiny_model.add(Dense(1470))"
   ]
  },
  {
   "cell_type": "code",
   "execution_count": 14,
   "metadata": {
    "collapsed": false,
    "deletable": true,
    "editable": true
   },
   "outputs": [],
   "source": [
    "model = Sequential()\n",
    "\n",
    "model.add(Conv2D(filters=64, kernel_size=(7,7), input_shape=(3,448,448), border_mode='same', strides=2)) \n",
    "model.add(LeakyReLU(alpha=0.1))\n",
    "model.add(MaxPooling2D(pool_size=(2,2), strides=2))\n",
    "\n",
    "model.add(Conv2D(filters=192, kernel_size=(3,3), border_mode='same'))\n",
    "model.add(LeakyReLU(alpha=0.1))\n",
    "model.add(MaxPooling2D(pool_size=(2,2), strides=2, border_mode='valid'))\n",
    "\n",
    "model.add(Conv2D(filters=128, kernel_size=(1,1), border_mode='same'))\n",
    "model.add(LeakyReLU(alpha=0.1))\n",
    "model.add(Conv2D(filters=256, kernel_size=(3,3), border_mode='same'))\n",
    "model.add(LeakyReLU(alpha=0.1))\n",
    "model.add(Conv2D(filters=256, kernel_size=(1,1), border_mode='same'))\n",
    "model.add(LeakyReLU(alpha=0.1))\n",
    "model.add(Conv2D(filters=512, kernel_size=(3,3), border_mode='same'))\n",
    "model.add(LeakyReLU(alpha=0.1))\n",
    "model.add(MaxPooling2D(pool_size=(2,2), strides=2, border_mode='valid'))\n",
    "\n",
    "model.add(Conv2D(filters=256, kernel_size=(1,1), border_mode='same'))\n",
    "model.add(LeakyReLU(alpha=0.1))\n",
    "model.add(Conv2D(filters=512, kernel_size=(3,3), border_mode='same'))\n",
    "model.add(LeakyReLU(alpha=0.1))\n",
    "model.add(Conv2D(filters=256, kernel_size=(1,1), border_mode='same'))\n",
    "model.add(LeakyReLU(alpha=0.1))\n",
    "model.add(Conv2D(filters=512, kernel_size=(3,3), border_mode='same'))\n",
    "model.add(LeakyReLU(alpha=0.1))\n",
    "model.add(Conv2D(filters=256, kernel_size=(1,1), border_mode='same'))\n",
    "model.add(LeakyReLU(alpha=0.1))\n",
    "model.add(Conv2D(filters=512, kernel_size=(3,3), border_mode='same'))\n",
    "model.add(LeakyReLU(alpha=0.1))\n",
    "model.add(Conv2D(filters=256, kernel_size=(1,1), border_mode='same'))\n",
    "model.add(LeakyReLU(alpha=0.1))\n",
    "model.add(Conv2D(filters=512, kernel_size=(3,3), border_mode='same'))\n",
    "model.add(LeakyReLU(alpha=0.1))\n",
    "model.add(Conv2D(filters=512, kernel_size=(1,1), border_mode='same'))\n",
    "model.add(LeakyReLU(alpha=0.1))\n",
    "model.add(Conv2D(filters=1024, kernel_size=(3,3), border_mode='same'))\n",
    "model.add(LeakyReLU(alpha=0.1))\n",
    "model.add(MaxPooling2D(pool_size=(2, 2),border_mode='valid'))\n",
    "\n",
    "model.add(Conv2D(filters=512, kernel_size=(1,1), border_mode='same'))\n",
    "model.add(LeakyReLU(alpha=0.1))\n",
    "model.add(Conv2D(filters=1024, kernel_size=(3,3), border_mode='same'))\n",
    "model.add(LeakyReLU(alpha=0.1))\n",
    "model.add(Conv2D(filters=512, kernel_size=(1,1), border_mode='same'))\n",
    "model.add(LeakyReLU(alpha=0.1))\n",
    "model.add(Conv2D(filters=1024, kernel_size=(3,3), border_mode='same'))\n",
    "model.add(LeakyReLU(alpha=0.1))\n",
    "# end of pretrained model\n",
    "model.add(Convolution2D(filters=1024, kernel_size=(3,3), border_mode='same'))\n",
    "model.add(LeakyReLU(alpha=0.1))\n",
    "model.add(Convolution2D(filters=1024, kernel_size=(3,3), border_mode='same', strides=2)) \n",
    "model.add(LeakyReLU(alpha=0.1))\n",
    "# model.add(AveragePooling2D(pool_size=(2,2), strides=None, padding='valid'))"
   ]
  },
  {
   "cell_type": "code",
   "execution_count": null,
   "metadata": {
    "collapsed": false
   },
   "outputs": [],
   "source": [
    "load_weights(model, '/home/filip/PycharmProjects/yolonet/data/yolov1.weights')"
   ]
  },
  {
   "cell_type": "code",
   "execution_count": null,
   "metadata": {
    "collapsed": true
   },
   "outputs": [],
   "source": []
  }
 ],
 "metadata": {
  "kernelspec": {
   "display_name": "Python 2",
   "language": "python",
   "name": "python2"
  },
  "language_info": {
   "codemirror_mode": {
    "name": "ipython",
    "version": 2
   },
   "file_extension": ".py",
   "mimetype": "text/x-python",
   "name": "python",
   "nbconvert_exporter": "python",
   "pygments_lexer": "ipython2",
   "version": "2.7.12"
  }
 },
 "nbformat": 4,
 "nbformat_minor": 2
}
